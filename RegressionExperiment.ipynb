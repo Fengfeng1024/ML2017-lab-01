{
 "cells": [
  {
   "cell_type": "code",
   "execution_count": 1,
   "metadata": {},
   "outputs": [],
   "source": [
    "from sklearn.datasets import load_svmlight_file\n",
    "from sklearn.model_selection import train_test_split\n",
    "import numpy as np\n",
    "from sklearn.linear_model import LinearRegression\n",
    "import tensorflow as tf\n",
    "from matplotlib import pyplot as plt"
   ]
  },
  {
   "cell_type": "markdown",
   "metadata": {},
   "source": [
    "compute loss"
   ]
  },
  {
   "cell_type": "code",
   "execution_count": 2,
   "metadata": {},
   "outputs": [],
   "source": [
    "def loss_function(y_predict, y_true):\n",
    "    loss = 0.0\n",
    "    for i in range(len(y_predict)):\n",
    "        loss += (y_predict[i] - y_true[i]) ** 2\n",
    "    return loss / 2 / len(y_predict)"
   ]
  },
  {
   "cell_type": "markdown",
   "metadata": {},
   "source": [
    "read data"
   ]
  },
  {
   "cell_type": "code",
   "execution_count": 3,
   "metadata": {},
   "outputs": [],
   "source": [
    "data = load_svmlight_file('H:/ML/experiment/housing_scale.txt')\n",
    "ones = np.ones(data[0].shape[0])\n",
    "all_data = np.reshape(data[0].data, (data[0].shape[0], data[0].shape[1]))\n",
    "all_data = np.column_stack((all_data, ones))\n",
    "all_label = np.reshape(data[1].data, (data[1].shape[0], 1))\n",
    "x_train, x_valid, y_train, y_valid = train_test_split(all_data, all_label, test_size=0.1)"
   ]
  },
  {
   "cell_type": "markdown",
   "metadata": {},
   "source": [
    "initialize params"
   ]
  },
  {
   "cell_type": "code",
   "execution_count": 4,
   "metadata": {},
   "outputs": [],
   "source": [
    "max_epoch = 500\n",
    "eta = 0.001\n",
    "w = np.random.random((x_train.shape[1], 1))\n",
    "train_loss = []\n",
    "valid_loss = []"
   ]
  },
  {
   "cell_type": "markdown",
   "metadata": {},
   "source": [
    "compute gradient, and then update it by gradient descent, finally compute the train loss and valid loss"
   ]
  },
  {
   "cell_type": "code",
   "execution_count": 5,
   "metadata": {},
   "outputs": [],
   "source": [
    "for i in range(0, max_epoch):\n",
    "    y_predict = np.dot(x_train, w)\n",
    "    gradient = (x_train * (y_predict - y_train)).sum(axis=0) / len(x_train)\n",
    "    gradient = np.reshape(gradient, (len(gradient), 1))\n",
    "    w = w - eta * gradient\n",
    "    train_loss.append(loss_function(np.dot(x_train, w), y_train))\n",
    "    valid_loss.append(loss_function(np.dot(x_valid, w), y_valid))"
   ]
  },
  {
   "cell_type": "markdown",
   "metadata": {},
   "source": [
    "plot the curve of train loss and valid loss"
   ]
  },
  {
   "cell_type": "code",
   "execution_count": 6,
   "metadata": {},
   "outputs": [
    {
     "data": {
      "image/png": "[encoded data removed]",
      "text/plain": [
       "<matplotlib.figure.Figure at 0x20ff5edbb38>"
      ]
     },
     "metadata": {},
     "output_type": "display_data"
    }
   ],
   "source": [
    "plt.plot(train_loss, label=u'train_loss')\n",
    "plt.plot(valid_loss, label=u'valid_loss')\n",
    "plt.legend()\n",
    "plt.show()"
   ]
  },
  {
   "cell_type": "code",
   "execution_count": null,
   "metadata": {},
   "outputs": [],
   "source": []
  }
 ],
 "metadata": {
  "kernelspec": {
   "display_name": "Python 3",
   "language": "python",
   "name": "python3"
  },
  "language_info": {
   "codemirror_mode": {
    "name": "ipython",
    "version": 3
   },
   "file_extension": ".py",
   "mimetype": "text/x-python",
   "name": "python",
   "nbconvert_exporter": "python",
   "pygments_lexer": "ipython3",
   "version": "3.5.2"
  }
 },
 "nbformat": 4,
 "nbformat_minor": 1
}
