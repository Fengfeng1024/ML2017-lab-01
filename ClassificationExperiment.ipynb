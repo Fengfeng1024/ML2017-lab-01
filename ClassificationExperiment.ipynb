{
 "cells": [
  {
   "cell_type": "code",
   "execution_count": 6,
   "metadata": {},
   "outputs": [],
   "source": [
    "from sklearn.datasets import load_svmlight_file\n",
    "from sklearn.model_selection import train_test_split\n",
    "import numpy as np\n",
    "from matplotlib import pyplot as plt\n",
    "\n"
   ]
  },
  {
   "cell_type": "markdown",
   "metadata": {},
   "source": [
    "compute hinge loss"
   ]
  },
  {
   "cell_type": "code",
   "execution_count": 7,
   "metadata": {},
   "outputs": [],
   "source": [
    "def loss(y, x, w):\n",
    "    losses = (1 - y * np.dot(x, w))\n",
    "    hinge_loss = 0\n",
    "    for one_loss in losses:\n",
    "        hinge_loss += max(0, one_loss)\n",
    "    return hinge_loss / len(x)"
   ]
  },
  {
   "cell_type": "markdown",
   "metadata": {},
   "source": [
    "read data and reshape data, split data into train data and valid data"
   ]
  },
  {
   "cell_type": "code",
   "execution_count": 8,
   "metadata": {},
   "outputs": [],
   "source": [
    "data = load_svmlight_file('H:/ML/experiment/australian_scale.txt')\n",
    "ones = np.ones(data[0].shape[0])\n",
    "d = data[0].todense()\n",
    "all_data = np.reshape(d.data, (data[0].shape[0], data[0].shape[1]))\n",
    "all_data = np.column_stack((all_data, ones))\n",
    "all_label = np.reshape(data[1].data, (data[1].shape[0], 1))\n",
    "x_train, x_valid, y_train, y_valid = train_test_split(all_data, all_label, test_size=0.1)"
   ]
  },
  {
   "cell_type": "markdown",
   "metadata": {},
   "source": [
    "initialize params"
   ]
  },
  {
   "cell_type": "code",
   "execution_count": 9,
   "metadata": {},
   "outputs": [],
   "source": [
    "max_epoch = 500\n",
    "eta = 0.01\n",
    "C = 0.8\n",
    "w = np.random.random((all_data.shape[1], 1))\n",
    "train_loss = []\n",
    "valid_loss = []"
   ]
  },
  {
   "cell_type": "markdown",
   "metadata": {},
   "source": [
    "compute hinge loss and gradient, and then update gradient by gradient descent, finally compute train loss and valie loss"
   ]
  },
  {
   "cell_type": "code",
   "execution_count": 10,
   "metadata": {},
   "outputs": [],
   "source": [
    "for i in range(0, max_epoch):\n",
    "    hinge_loss = loss(y_train, x_train, w)\n",
    "    if hinge_loss <= 0:\n",
    "        w = w - eta * w\n",
    "    else:\n",
    "        gradient = (y_train * x_train).sum(axis=0) / len(x_train)\n",
    "        gradient = np.reshape(gradient, (len(gradient), 1))\n",
    "        w = w - eta * (w - gradient)\n",
    "    train_loss.append(loss(y_train, x_train, w))\n",
    "    valid_loss.append(loss(y_valid, x_valid, w))"
   ]
  },
  {
   "cell_type": "markdown",
   "metadata": {},
   "source": [
    "plot the curve of train loss and valid loss"
   ]
  },
  {
   "cell_type": "code",
   "execution_count": 11,
   "metadata": {},
   "outputs": [
    {
     "data": {
      "image/png": "[encoded data removed]",
      "text/plain": [
       "<matplotlib.figure.Figure at 0x13c0c07b7f0>"
      ]
     },
     "metadata": {},
     "output_type": "display_data"
    }
   ],
   "source": [
    "plt.plot(train_loss, label='train_loss')\n",
    "plt.plot(valid_loss, label='valid_loss')\n",
    "plt.legend()\n",
    "plt.show()"
   ]
  },
  {
   "cell_type": "code",
   "execution_count": null,
   "metadata": {},
   "outputs": [],
   "source": []
  }
 ],
 "metadata": {
  "kernelspec": {
   "display_name": "Python 3",
   "language": "python",
   "name": "python3"
  },
  "language_info": {
   "codemirror_mode": {
    "name": "ipython",
    "version": 3
   },
   "file_extension": ".py",
   "mimetype": "text/x-python",
   "name": "python",
   "nbconvert_exporter": "python",
   "pygments_lexer": "ipython3",
   "version": "3.5.2"
  }
 },
 "nbformat": 4,
 "nbformat_minor": 1
}
